{
 "cells": [
  {
   "cell_type": "markdown",
   "id": "8223c20d",
   "metadata": {},
   "source": [
    "## Name : Aditya Koshti\n",
    "## Course : BDAT1004 Data Programming\n",
    "## Assignment : Problem Set 2\n",
    "## Student ID : 200556105"
   ]
  },
  {
   "cell_type": "markdown",
   "id": "6fc8237d",
   "metadata": {},
   "source": [
    "### Question 1 : What value is displayed when the last expression (a) is evaluated? Explain your answer by indicating what happens in every executed statement."
   ]
  },
  {
   "cell_type": "code",
   "execution_count": 5,
   "id": "7e374b0b",
   "metadata": {},
   "outputs": [
    {
     "data": {
      "text/plain": [
       "6"
      ]
     },
     "execution_count": 5,
     "metadata": {},
     "output_type": "execute_result"
    }
   ],
   "source": [
    "a = 0\n",
    "\n",
    "def b():\n",
    "    global a\n",
    "    a = c(a)\n",
    "    \n",
    "def c(a):\n",
    "    return a + 2\n",
    "\n",
    "b()\n",
    "b()\n",
    "b()\n",
    "a"
   ]
  },
  {
   "cell_type": "markdown",
   "id": "ac382535",
   "metadata": {},
   "source": [
    "##### Explaination:\n",
    "\n",
    "The initial value of a is 0.\n",
    "\n",
    "The first call b(): a's value is 0 so as c(a)=a+2 then 0+2=2 \n",
    "\n",
    "Now, global a's value gets changed to 2\n",
    "\n",
    "The second call b(): a's value is 2 now so as c(a)=a+2 then 2+2=4 \n",
    "\n",
    "Now, global a's value gets changed to 4 \n",
    "\n",
    "The third call b(): a's value is 4 now so as c(a)=a+2 then 4+2=6 \n",
    "\n",
    "Now, global a's value gets changed to 6\n",
    "\n",
    "So as in third step a=6 (global value is being changed from 0 to 6 when b() is being executed till last step)"
   ]
  },
  {
   "cell_type": "markdown",
   "id": "2dab7d23",
   "metadata": {},
   "source": [
    "## Question 2 : Function fileLength(), given to you, takes the name of a file as input and returns the length of the file."
   ]
  },
  {
   "cell_type": "code",
   "execution_count": 6,
   "id": "72c20981",
   "metadata": {},
   "outputs": [
    {
     "name": "stdout",
     "output_type": "stream",
     "text": [
      "file midterm.py not found\n",
      "file idterm.py not found\n"
     ]
    }
   ],
   "source": [
    "def fileLength(filename):\n",
    "    try:                                           \n",
    "        infile=open(filename)\n",
    "        data=infile.read()\n",
    "        length=len(data)\n",
    "        infile.close()\n",
    "        print(length)\n",
    "    except IOError:                                  \n",
    "        print(\"file {} not found\".format(filename))     \n",
    "                                                   \n",
    "        \n",
    "fileLength('midterm.py')  \n",
    "fileLength('idterm.py')     "
   ]
  },
  {
   "cell_type": "markdown",
   "id": "a86e90d6",
   "metadata": {},
   "source": [
    "## Question 3"
   ]
  },
  {
   "cell_type": "code",
   "execution_count": 7,
   "id": "fa5e0e3a",
   "metadata": {},
   "outputs": [
    {
     "name": "stdout",
     "output_type": "stream",
     "text": [
      "I am a Kanagaroo located at coordinates (0,0)\n",
      "['doll', 'firetruck', 'kitten']\n",
      "I am a Kanagaroo located at coordinates (3,0)\n"
     ]
    }
   ],
   "source": [
    "class Marsupial:\n",
    "\n",
    "    def __init__(self):\n",
    "        self.pouch=[]\n",
    "    def put_in_pouch(self, item):\n",
    "        self.pouch.append(item)\n",
    "    def pouch_contents(self):\n",
    "        return self.pouch\n",
    "\n",
    "class Kangaroo(Marsupial):\n",
    "    def __init__(self, x,y):\n",
    "        Marsupial.__init__(self)\n",
    "        self.x=x\n",
    "        self.y=y\n",
    "    def jump(self, dx, dy):\n",
    "        self.x+=dx\n",
    "        self.x+=dy\n",
    "    def __str__(self):\n",
    "        return \"I am a Kanagaroo located at coordinates (\"+str(self.x)+\",\"+str(self.y)+\")\"\n",
    "\n",
    "m = Marsupial()\n",
    "m.put_in_pouch('doll')\n",
    "m.put_in_pouch('firetruck')\n",
    "m.put_in_pouch('kitten')\n",
    "m.pouch_contents()\n",
    "\n",
    "k = Kangaroo(0,0)\n",
    "print(k)\n",
    "\n",
    "k.put_in_pouch('doll')\n",
    "k.put_in_pouch('firetruck')\n",
    "k.put_in_pouch('kitten')\n",
    "ak=k.pouch_contents()\n",
    "print(ak)\n",
    "\n",
    "k.jump(1,0)\n",
    "k.jump(1,0)\n",
    "k.jump(1,0)\n",
    "\n",
    "print(k)"
   ]
  },
  {
   "cell_type": "markdown",
   "id": "142c7ac1",
   "metadata": {},
   "source": [
    "## Question 4\n",
    "Write function collatz() that takes a positive integer x as input and prints the Collatz sequence starting at x."
   ]
  },
  {
   "cell_type": "code",
   "execution_count": 8,
   "id": "a3f4f5f6",
   "metadata": {},
   "outputs": [
    {
     "name": "stdout",
     "output_type": "stream",
     "text": [
      "collatz(1)\n",
      "1\n",
      "\n",
      "collatz(10)\n",
      "10\n",
      "5\n",
      "16\n",
      "8\n",
      "4\n",
      "2\n",
      "1\n"
     ]
    }
   ],
   "source": [
    "def collatz(x):\n",
    "    if x == 1:               \n",
    "        return [x]\n",
    "    elif x%2==0:             \n",
    "        return [x] + collatz(int(x/2))\n",
    "    else:                    \n",
    "        return [x] + collatz(int(x*3+1))\n",
    "\n",
    "y=collatz(1)\n",
    "z=collatz(10)\n",
    "print(\"collatz(1)\")\n",
    "print(*y,sep = \"\\n\")\n",
    "print(\"\\ncollatz(10)\")\n",
    "print(*z, sep = \"\\n\")"
   ]
  },
  {
   "cell_type": "markdown",
   "id": "fcda8c73",
   "metadata": {},
   "source": [
    "## Question 5 \n",
    "Write a recursive method binary() that takes a non-negative integer n and prints the binary representation of integer n."
   ]
  },
  {
   "cell_type": "code",
   "execution_count": 9,
   "id": "beecf00e",
   "metadata": {},
   "outputs": [
    {
     "name": "stdout",
     "output_type": "stream",
     "text": [
      "Enter your Number: 9\n",
      "1001"
     ]
    }
   ],
   "source": [
    "Number = int(input(\"Enter your Number: \"))\n",
    "def binary(n):\n",
    "    if n == 0:\n",
    "        return 0\n",
    "    else:\n",
    "        binary(n//2)\n",
    "    print(n % 2,end = '')\n",
    "binary(Number)"
   ]
  },
  {
   "cell_type": "markdown",
   "id": "adbcbc37",
   "metadata": {},
   "source": [
    "## Question 6"
   ]
  },
  {
   "cell_type": "code",
   "execution_count": 10,
   "id": "f0ca4efb",
   "metadata": {},
   "outputs": [
    {
     "name": "stdout",
     "output_type": "stream",
     "text": [
      "W3C Mission\n",
      " Principles\n"
     ]
    }
   ],
   "source": [
    "from html.parser import HTMLParser\n",
    "\n",
    "class HeadingParser(HTMLParser):\n",
    "    Headers = [\"h1\", \"h2\"]\n",
    "    current = -1\n",
    "\n",
    "    def handle_starttag(self, tag, attrs):      \n",
    "        if tag in HeadingParser.Headers:         \n",
    "            HeadingParser.current = HeadingParser.Headers.index(tag)\n",
    "    \n",
    "    def handle_endtag(self, tag):                \n",
    "        if tag == HeadingParser.Headers[HeadingParser.current]:          \n",
    "            HeadingParser.current = -1\n",
    "            \n",
    "    def handle_data(self, data):\n",
    "        if HeadingParser.current >= 0:\n",
    "            print(\" \" * HeadingParser.current + data)\n",
    "            \n",
    "infile = open(\"C:/Users/Aditya/OneDrive/Documents/Python Scripts/w3c.html\")\n",
    "content = infile.read()\n",
    "infile.close()\n",
    "hp = HeadingParser()\n",
    "hp.feed(content)\n"
   ]
  },
  {
   "cell_type": "markdown",
   "id": "cfe22a9c",
   "metadata": {},
   "source": [
    "## Question 7\n",
    "Implement recursive function webdir() that takes as input: a URL (as a string) and non-negative integers depth and indent. Your function should visit every web page reachable from the starting URL web page in depth clicks or less, and print each web page's URL"
   ]
  },
  {
   "cell_type": "code",
   "execution_count": 11,
   "id": "f3a68ca0",
   "metadata": {},
   "outputs": [
    {
     "name": "stdout",
     "output_type": "stream",
     "text": [
      " http://reed.cs.depaul.edu/lperkovic/test1.html\n",
      " http://reed.cs.depaul.edu/lperkovic/test2.html\n",
      "  http://reed.cs.depaul.edu/lperkovic/test2.html\n"
     ]
    }
   ],
   "source": [
    "from html.parser import HTMLParser\n",
    "from urllib.parse import urljoin\n",
    "from urllib.request import urlopen\n",
    "\n",
    "# Collector class as a sub-class of HTMLParser to get the list of links\n",
    "class Collector(HTMLParser):\n",
    "    #collects hyperlink URLs into a list\n",
    "\n",
    "    def __init__(self, url):\n",
    "        #initializes the parser, the url, and a list\n",
    "        HTMLParser.__init__(self)\n",
    "        self.url = url\n",
    "        self.links = []\n",
    "        \n",
    "    def handle_starttag(self, tag, attrs):\n",
    "        #collects hyperlink URLs in their absolute format\n",
    "        if tag == 'a':\n",
    "            for attr in attrs:\n",
    "                if attr[0] == 'href':\n",
    "                    absolute = urljoin(self.url, attr[1])\n",
    "                    if absolute[:4] == 'http': \n",
    "                        self.links.append(absolute)\n",
    "                        \n",
    "    def getLinks(self):\n",
    "        #returns hyperlinks URLs in their absolute format\n",
    "        return self.links\n",
    "    \n",
    "allLinks = []\n",
    "    \n",
    "def webdir(url,depth,indent):\n",
    "        global allLinks   \n",
    "        print(indent*\" \" + url)\n",
    "        if depth == 0:\n",
    "            return \n",
    "        for i in allLinks: \n",
    "            webdir(i, depth-1, indent+1)    \n",
    "\n",
    "\n",
    "url = ' http://reed.cs.depaul.edu/lperkovic/test1.html'\n",
    "resource = urlopen(url)\n",
    "content = resource.read().decode()\n",
    "collector = Collector(url)\n",
    "collector.feed(content)\n",
    "allLinks = collector.getLinks()\n",
    "\n",
    "#Calling Webdir Function here\n",
    "webdir(url,2,0)  \n"
   ]
  },
  {
   "cell_type": "markdown",
   "id": "3ae239ba",
   "metadata": {},
   "source": [
    "## Question 8\n",
    "To write SQL queries on the provided database table that answers (a) - (h).\n"
   ]
  },
  {
   "cell_type": "code",
   "execution_count": 12,
   "id": "b0c039e3",
   "metadata": {},
   "outputs": [
    {
     "data": {
      "text/plain": [
       "[('Mumbai', 'India', 'Winter', 24.8, 5.9),\n",
       " ('Mumbai', 'India', 'Spring', 28.4, 16.2),\n",
       " ('Mumbai', 'India', 'Summer', 27.9, 1549.4),\n",
       " ('Mumbai', 'India', 'Fall', 27.6, 346.0),\n",
       " ('London', 'United Kindom', 'Winter', 4.2, 207.7),\n",
       " ('London', 'United Kindom', 'Spring', 8.3, 169.6),\n",
       " ('London', 'United Kindom', 'Summer', 15.7, 157.0),\n",
       " ('London', 'United Kindom', 'Fall', 10.4, 218.5),\n",
       " ('Cairo', 'Egypt', 'Winter', 13.6, 16.5),\n",
       " ('Cairo', 'Egypt', 'Spring', 20.7, 6.5),\n",
       " ('Cairo', 'Egypt', 'Summer', 27.7, 0.1),\n",
       " ('Cairo', 'Egypt', 'Fall', 22.2, 4.5)]"
      ]
     },
     "execution_count": 12,
     "metadata": {},
     "output_type": "execute_result"
    }
   ],
   "source": [
    "# Creating a table named 'cityInfo' using requisite syntax and using all the data provided to create table cityInfo\n",
    "\n",
    "import sqlite3\n",
    "con = sqlite3.connect('cityinformation.db')\n",
    "cur = con.cursor()\n",
    "cur.execute(\"CREATE TABLE cityinformation (City text, Country text, Season text, Temperature double, Rainfall double)\")\n",
    "cur.execute(\"INSERT INTO cityinformation VALUES ('Mumbai', 'India', 'Winter', 24.8, 5.9), ('Mumbai','India', 'Spring', 28.4, 16.2), ('Mumbai','India', 'Summer', 27.9, 1549.4), ('Mumbai','India', 'Fall', 27.6, 346.0)\")\n",
    "cur.execute(\"INSERT INTO cityinformation VALUES ('London', 'United Kindom', 'Winter', 4.2, 207.7), ('London', 'United Kindom', 'Spring', 8.3, 169.6), ('London', 'United Kindom', 'Summer', 15.7, 157.0), ('London', 'United Kindom', 'Fall', 10.4, 218.5)\")\n",
    "cur.execute(\"INSERT INTO cityinformation VALUES ('Cairo', 'Egypt', 'Winter', 13.6, 16.5), ('Cairo', 'Egypt', 'Spring', 20.7, 6.5), ('Cairo', 'Egypt', 'Summer', 27.7, 0.1), ('Cairo', 'Egypt', 'Fall', 22.2, 4.5)\")\n",
    "\n",
    "# Selcting all the data from the cityInfo table \n",
    "cur.execute('SELECT * FROM cityinformation')\n",
    "cur.fetchall()"
   ]
  },
  {
   "cell_type": "code",
   "execution_count": 13,
   "id": "4de2a8cb",
   "metadata": {},
   "outputs": [
    {
     "data": {
      "text/plain": [
       "[(24.8,),\n",
       " (28.4,),\n",
       " (27.9,),\n",
       " (27.6,),\n",
       " (4.2,),\n",
       " (8.3,),\n",
       " (15.7,),\n",
       " (10.4,),\n",
       " (13.6,),\n",
       " (20.7,),\n",
       " (27.7,),\n",
       " (22.2,)]"
      ]
     },
     "execution_count": 13,
     "metadata": {},
     "output_type": "execute_result"
    }
   ],
   "source": [
    "## Question 8(a)\n",
    "\n",
    "cur.execute('SELECT Temperature FROM cityinformation')\n",
    "cur.fetchall()"
   ]
  },
  {
   "cell_type": "code",
   "execution_count": 14,
   "id": "e178419c",
   "metadata": {},
   "outputs": [
    {
     "data": {
      "text/plain": [
       "[('Mumbai',), ('London',), ('Cairo',)]"
      ]
     },
     "execution_count": 14,
     "metadata": {},
     "output_type": "execute_result"
    }
   ],
   "source": [
    "## Question 8(b)\n",
    "cur.execute('SELECT DISTINCT(City) FROM cityinformation')\n",
    "cur.fetchall()"
   ]
  },
  {
   "cell_type": "code",
   "execution_count": 15,
   "id": "94016d35",
   "metadata": {},
   "outputs": [
    {
     "data": {
      "text/plain": [
       "[('Mumbai', 'India', 'Winter', 24.8, 5.9),\n",
       " ('Mumbai', 'India', 'Spring', 28.4, 16.2),\n",
       " ('Mumbai', 'India', 'Summer', 27.9, 1549.4),\n",
       " ('Mumbai', 'India', 'Fall', 27.6, 346.0)]"
      ]
     },
     "execution_count": 15,
     "metadata": {},
     "output_type": "execute_result"
    }
   ],
   "source": [
    "## Question 8(c)\n",
    "cur.execute('SELECT * FROM cityinformation where Country = \"India\"')\n",
    "cur.fetchall()"
   ]
  },
  {
   "cell_type": "code",
   "execution_count": 16,
   "id": "f3e652e9",
   "metadata": {},
   "outputs": [
    {
     "data": {
      "text/plain": [
       "[('Mumbai', 'India', 'Fall', 27.6, 346.0),\n",
       " ('London', 'United Kindom', 'Fall', 10.4, 218.5),\n",
       " ('Cairo', 'Egypt', 'Fall', 22.2, 4.5)]"
      ]
     },
     "execution_count": 16,
     "metadata": {},
     "output_type": "execute_result"
    }
   ],
   "source": [
    "## Question 8(d)\n",
    "cur.execute('SELECT * FROM cityinformation where Season = \"Fall\"')\n",
    "cur.fetchall()"
   ]
  },
  {
   "cell_type": "code",
   "execution_count": 17,
   "id": "199f2d6a",
   "metadata": {},
   "outputs": [
    {
     "data": {
      "text/plain": [
       "[('London', 'United Kindom', 'Fall', 218.5),\n",
       " ('London', 'United Kindom', 'Winter', 207.7),\n",
       " ('Mumbai', 'India', 'Fall', 346.0)]"
      ]
     },
     "execution_count": 17,
     "metadata": {},
     "output_type": "execute_result"
    }
   ],
   "source": [
    "## Question 8(e)\n",
    "cur.execute('SELECT City, Country, Season, AVG(Rainfall) FROM cityinformation GROUP BY City, Country, Season HAVING AVG(Rainfall) >= 200 and AVG(Rainfall) <= 400')\n",
    "cur.fetchall()\n"
   ]
  },
  {
   "cell_type": "code",
   "execution_count": 18,
   "id": "b046ae8b",
   "metadata": {},
   "outputs": [
    {
     "data": {
      "text/plain": [
       "[('Cairo', 'Egypt', 23.53333333333333),\n",
       " ('Mumbai', 'India', 27.174999999999997)]"
      ]
     },
     "execution_count": 18,
     "metadata": {},
     "output_type": "execute_result"
    }
   ],
   "source": [
    "## Question 8(f)\n",
    "cur.execute('SELECT City, Country, AVG(Temperature) FROM cityinformation where Temperature > 20 GROUP BY City, Country HAVING AVG(Temperature) > 20 ORDER By Temperature ASC')\n",
    "cur.fetchall()\n"
   ]
  },
  {
   "cell_type": "code",
   "execution_count": 19,
   "id": "ba0601d0",
   "metadata": {},
   "outputs": [
    {
     "data": {
      "text/plain": [
       "[(27.6,)]"
      ]
     },
     "execution_count": 19,
     "metadata": {},
     "output_type": "execute_result"
    }
   ],
   "source": [
    "## Question 8(g)\n",
    "cur.execute('SELECT SUM(Rainfall) FROM cityinformation WHERE City = \"Cairo\"')\n",
    "cur.fetchall()\n"
   ]
  },
  {
   "cell_type": "code",
   "execution_count": 20,
   "id": "65e55201",
   "metadata": {},
   "outputs": [
    {
     "data": {
      "text/plain": [
       "[('Fall', 569.0),\n",
       " ('Spring', 192.29999999999998),\n",
       " ('Summer', 1706.5),\n",
       " ('Winter', 230.1)]"
      ]
     },
     "execution_count": 20,
     "metadata": {},
     "output_type": "execute_result"
    }
   ],
   "source": [
    "## Question 8(h)\n",
    "cur.execute('SELECT Season, SUM(Rainfall) FROM cityinformation GROUP BY Season')\n",
    "cur.fetchall()\n",
    "\n"
   ]
  },
  {
   "cell_type": "markdown",
   "id": "5fc748fd",
   "metadata": {},
   "source": [
    "## Question 9"
   ]
  },
  {
   "cell_type": "code",
   "execution_count": 21,
   "id": "add05169",
   "metadata": {},
   "outputs": [],
   "source": [
    "words = ['The', 'quick', 'brown', 'fox', 'jumps', 'over','the', 'lazy', 'dog']\n"
   ]
  },
  {
   "cell_type": "code",
   "execution_count": 22,
   "id": "2919ad4c",
   "metadata": {},
   "outputs": [
    {
     "name": "stdout",
     "output_type": "stream",
     "text": [
      "['THE', 'QUICK', 'BROWN', 'FOX', 'JUMPS', 'OVER', 'THE', 'LAZY', 'DOG']\n"
     ]
    }
   ],
   "source": [
    "u = [elements.upper() for elements in words]\n",
    "print (u)"
   ]
  },
  {
   "cell_type": "code",
   "execution_count": 23,
   "id": "4179da69",
   "metadata": {},
   "outputs": [
    {
     "name": "stdout",
     "output_type": "stream",
     "text": [
      "['the', 'quick', 'brown', 'fox', 'jumps', 'over', 'the', 'lazy', 'dog']\n"
     ]
    }
   ],
   "source": [
    "l = [elements.lower() for elements in words]\n",
    "print(l)"
   ]
  },
  {
   "cell_type": "code",
   "execution_count": 24,
   "id": "f7b084ce",
   "metadata": {},
   "outputs": [
    {
     "name": "stdout",
     "output_type": "stream",
     "text": [
      "[3, 5, 5, 3, 5, 4, 3, 4, 3]\n"
     ]
    }
   ],
   "source": [
    "r = [len(elements) for elements in words]\n",
    "print(r)"
   ]
  },
  {
   "cell_type": "code",
   "execution_count": 25,
   "id": "e270c3c6",
   "metadata": {},
   "outputs": [
    {
     "name": "stdout",
     "output_type": "stream",
     "text": [
      "[['THE', 'the', 3], ['QUICK', 'quick', 5], ['BROWN', 'brown', 5], ['FOX', 'fox', 3], ['JUMPS', 'jumps', 5], ['OVER', 'over', 4], ['THE', 'the', 3], ['LAZY', 'lazy', 4], ['DOG', 'dog', 3]]\n"
     ]
    }
   ],
   "source": [
    "t = [[elements.upper(),elements.lower(),len(elements)] for elements in words]\n",
    "print(t)"
   ]
  },
  {
   "cell_type": "code",
   "execution_count": 26,
   "id": "ee1fb49d",
   "metadata": {},
   "outputs": [
    {
     "name": "stdout",
     "output_type": "stream",
     "text": [
      "['quick', 'brown', 'jumps', 'over', 'lazy']\n"
     ]
    }
   ],
   "source": [
    "y = [elements for elements in words if len(elements)>=4]\n",
    "print(y)"
   ]
  }
 ],
 "metadata": {
  "kernelspec": {
   "display_name": "Python 3 (ipykernel)",
   "language": "python",
   "name": "python3"
  },
  "language_info": {
   "codemirror_mode": {
    "name": "ipython",
    "version": 3
   },
   "file_extension": ".py",
   "mimetype": "text/x-python",
   "name": "python",
   "nbconvert_exporter": "python",
   "pygments_lexer": "ipython3",
   "version": "3.9.13"
  }
 },
 "nbformat": 4,
 "nbformat_minor": 5
}
